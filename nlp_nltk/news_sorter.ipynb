{
  "nbformat": 4,
  "nbformat_minor": 0,
  "metadata": {
    "colab": {
      "name": "news_sorter.ipynb",
      "provenance": [],
      "authorship_tag": "ABX9TyOZT9ePq6b76tYXXaDuQfWt",
      "include_colab_link": true
    },
    "kernelspec": {
      "name": "python3",
      "display_name": "Python 3"
    }
  },
  "cells": [
    {
      "cell_type": "markdown",
      "metadata": {
        "id": "view-in-github",
        "colab_type": "text"
      },
      "source": [
        "<a href=\"https://colab.research.google.com/github/saulomaia/datascience/blob/master/nlp_nltk/news_sorter.ipynb\" target=\"_parent\"><img src=\"https://colab.research.google.com/assets/colab-badge.svg\" alt=\"Open In Colab\"/></a>"
      ]
    },
    {
      "cell_type": "markdown",
      "metadata": {
        "id": "ab9hrjKkqN5r",
        "colab_type": "text"
      },
      "source": [
        "# **Classificador de Notícias**\n",
        "\n",
        "<p align=\"center\"><img src=\"https://raw.githubusercontent.com/saulomaia/datascience/master/images/news_sorter.png\" height=\"450px\"></p>"
      ]
    },
    {
      "cell_type": "markdown",
      "metadata": {
        "id": "ZYjfwU2lsgjJ",
        "colab_type": "text"
      },
      "source": [
        "## **Biblioteca TextBlob**\n",
        "\n",
        "A biblioteca TextBlob é uma extensão da biblioteca NLTK para trabalharmos com NLP, ou seja, a própria NLTK já é uma biblioteca muito poderosa e a TextBlob veio para agregar soluções e serviços de NLP usando como base a NLTK. Possui uma fácil usabilidade, o que permite termos uma interface muito mais amigável por meio de uma API. Além de tudo isso, há para a biblioteca, uma documentação muito rica e uma maior integracão com outros serviços e produtos.\n",
        "\n",
        "Tarefas de NLP que são possíveis de serem realizadas através da TextBlob:\n",
        "\n",
        "1.   Tokenization\n",
        "2.   Noun Phrase Extraction\n",
        "3.   POS-Tagging\n",
        "4.   Words inflection and lemmatization\n",
        "5.   N-grams\n",
        "6.   Sentiment Analysis\n",
        "\n",
        "\n"
      ]
    },
    {
      "cell_type": "markdown",
      "metadata": {
        "id": "ZhkVYwCZuiHK",
        "colab_type": "text"
      },
      "source": [
        "### Instalação"
      ]
    },
    {
      "cell_type": "code",
      "metadata": {
        "id": "Hz7Efv8Sp-0Z",
        "colab_type": "code",
        "colab": {
          "base_uri": "https://localhost:8080/",
          "height": 68
        },
        "outputId": "96651bea-c2c1-4dd9-ae60-5e9ddd747789"
      },
      "source": [
        "!pip install textblob"
      ],
      "execution_count": 1,
      "outputs": [
        {
          "output_type": "stream",
          "text": [
            "Requirement already satisfied: textblob in /usr/local/lib/python3.6/dist-packages (0.15.3)\n",
            "Requirement already satisfied: nltk>=3.1 in /usr/local/lib/python3.6/dist-packages (from textblob) (3.2.5)\n",
            "Requirement already satisfied: six in /usr/local/lib/python3.6/dist-packages (from nltk>=3.1->textblob) (1.15.0)\n"
          ],
          "name": "stdout"
        }
      ]
    },
    {
      "cell_type": "markdown",
      "metadata": {
        "id": "THAHdYhouovo",
        "colab_type": "text"
      },
      "source": [
        "### Baixando as bases de dados utilizadas pela NLTK"
      ]
    },
    {
      "cell_type": "code",
      "metadata": {
        "id": "HIFHzhMQum6h",
        "colab_type": "code",
        "colab": {
          "base_uri": "https://localhost:8080/",
          "height": 255
        },
        "outputId": "52efd13f-4207-4079-8a4c-63fff5a6d675"
      },
      "source": [
        "!python -m textblob.download_corpora"
      ],
      "execution_count": 2,
      "outputs": [
        {
          "output_type": "stream",
          "text": [
            "[nltk_data] Downloading package brown to /root/nltk_data...\n",
            "[nltk_data]   Unzipping corpora/brown.zip.\n",
            "[nltk_data] Downloading package punkt to /root/nltk_data...\n",
            "[nltk_data]   Unzipping tokenizers/punkt.zip.\n",
            "[nltk_data] Downloading package wordnet to /root/nltk_data...\n",
            "[nltk_data]   Unzipping corpora/wordnet.zip.\n",
            "[nltk_data] Downloading package averaged_perceptron_tagger to\n",
            "[nltk_data]     /root/nltk_data...\n",
            "[nltk_data]   Unzipping taggers/averaged_perceptron_tagger.zip.\n",
            "[nltk_data] Downloading package conll2000 to /root/nltk_data...\n",
            "[nltk_data]   Unzipping corpora/conll2000.zip.\n",
            "[nltk_data] Downloading package movie_reviews to /root/nltk_data...\n",
            "[nltk_data]   Unzipping corpora/movie_reviews.zip.\n",
            "Finished.\n"
          ],
          "name": "stdout"
        }
      ]
    },
    {
      "cell_type": "markdown",
      "metadata": {
        "id": "trZCq_M1uz3b",
        "colab_type": "text"
      },
      "source": [
        "### Utilizando a biblioteca"
      ]
    },
    {
      "cell_type": "code",
      "metadata": {
        "id": "j7qu1kfpuwhx",
        "colab_type": "code",
        "colab": {}
      },
      "source": [
        "from textblob import TextBlob"
      ],
      "execution_count": 3,
      "outputs": []
    },
    {
      "cell_type": "code",
      "metadata": {
        "id": "JIna84GcvENc",
        "colab_type": "code",
        "colab": {}
      },
      "source": [
        "frases = TextBlob(\"Python é um ótima liguagem para Data Science.\")"
      ],
      "execution_count": 7,
      "outputs": []
    },
    {
      "cell_type": "code",
      "metadata": {
        "id": "px2bD0UZvJuN",
        "colab_type": "code",
        "colab": {
          "base_uri": "https://localhost:8080/",
          "height": 34
        },
        "outputId": "a47d34cc-d410-4110-f491-fe7a7ae17d42"
      },
      "source": [
        "frases.tokens"
      ],
      "execution_count": 8,
      "outputs": [
        {
          "output_type": "execute_result",
          "data": {
            "text/plain": [
              "WordList(['Python', 'é', 'um', 'ótima', 'liguagem', 'para', 'Data', 'Science', '.'])"
            ]
          },
          "metadata": {
            "tags": []
          },
          "execution_count": 8
        }
      ]
    },
    {
      "cell_type": "markdown",
      "metadata": {
        "id": "xamUGrDJvdNp",
        "colab_type": "text"
      },
      "source": [
        "**Detectando sentenças**"
      ]
    },
    {
      "cell_type": "code",
      "metadata": {
        "id": "efp9Zoq9vf7b",
        "colab_type": "code",
        "colab": {
          "base_uri": "https://localhost:8080/",
          "height": 34
        },
        "outputId": "a6c18e03-454c-4af1-8571-bb232e38a2b4"
      },
      "source": [
        "frases.sentences"
      ],
      "execution_count": 9,
      "outputs": [
        {
          "output_type": "execute_result",
          "data": {
            "text/plain": [
              "[Sentence(\"Python é um ótima liguagem para Data Science.\")]"
            ]
          },
          "metadata": {
            "tags": []
          },
          "execution_count": 9
        }
      ]
    },
    {
      "cell_type": "markdown",
      "metadata": {
        "id": "zfLg92uyv27L",
        "colab_type": "text"
      },
      "source": [
        "**A biblioteca TextBlob tem um recurso interessante de tradução de sentenças.**\n",
        "\n",
        "A blbioteca utiliza a API do Google Translate para realizar a tradução das sentenças, além de detectar automaticamente o idioma utilizado e fazer a correção de uma determinada frase."
      ]
    },
    {
      "cell_type": "code",
      "metadata": {
        "id": "JAvTFbllw1lW",
        "colab_type": "code",
        "colab": {
          "base_uri": "https://localhost:8080/",
          "height": 35
        },
        "outputId": "fdef4e67-f829-494e-f5ba-813e69520387"
      },
      "source": [
        "frases.detect_language()"
      ],
      "execution_count": 11,
      "outputs": [
        {
          "output_type": "execute_result",
          "data": {
            "application/vnd.google.colaboratory.intrinsic+json": {
              "type": "string"
            },
            "text/plain": [
              "'pt'"
            ]
          },
          "metadata": {
            "tags": []
          },
          "execution_count": 11
        }
      ]
    },
    {
      "cell_type": "code",
      "metadata": {
        "id": "G6Q7qG1dvLjF",
        "colab_type": "code",
        "colab": {
          "base_uri": "https://localhost:8080/",
          "height": 34
        },
        "outputId": "7a5badc8-2690-4681-d20d-957b51aa0e74"
      },
      "source": [
        "frases.translate(to=\"en\")"
      ],
      "execution_count": 10,
      "outputs": [
        {
          "output_type": "execute_result",
          "data": {
            "text/plain": [
              "TextBlob(\"Python is a great language for Data Science.\")"
            ]
          },
          "metadata": {
            "tags": []
          },
          "execution_count": 10
        }
      ]
    },
    {
      "cell_type": "code",
      "metadata": {
        "id": "Bt9hzhecwv0U",
        "colab_type": "code",
        "colab": {
          "base_uri": "https://localhost:8080/",
          "height": 34
        },
        "outputId": "560b091b-2a7b-4483-923f-ef6000a8e754"
      },
      "source": [
        "frase = TextBlob(\"I havv othyr idea, ok !! comi on\")\n",
        "frase.correct()"
      ],
      "execution_count": 15,
      "outputs": [
        {
          "output_type": "execute_result",
          "data": {
            "text/plain": [
              "TextBlob(\"I have other idea, ok !! come on\")"
            ]
          },
          "metadata": {
            "tags": []
          },
          "execution_count": 15
        }
      ]
    },
    {
      "cell_type": "markdown",
      "metadata": {
        "id": "h5zSJU7ZxsOh",
        "colab_type": "text"
      },
      "source": [
        "## **Classificação de Notícias**\n",
        "\n",
        "Quantas vezes você já foi impactado por alguma **notícia duvidosa?** E quantas vezes, mesmo sem confirmar a veracidade dos fatos, **repassou ela aos seus contatos?** Pois bem, é assim que as fake news se espalham e estão cada vez mais presentes no dia a dia da informação.\n",
        "\n",
        "Principalmente com o estabelecimento das redes sociais, as notícias falsas têm sido amplamente disseminadas. Notícias enganosas, juntamente com o grande número de usuários com o poder de compartilhá-las sem o devido conhecimento para verificar suas fontes e veracidade, levaram a população à uma série de tomadas de decisões errôneas e que não refletem suas reais intenções, seja no âmbito político, social ou até mesmo da sáude.\n",
        "\n",
        "Na política, por exemplo, notícias falsas já são bem conhecidas. Dados mostram que no ano de 2016, 33 das [50 notícias falsas mais disseminadas no Facebook eram sobre a política dos Estados Unidos](https://www.buzzfeednews.com/article/craigsilverman/top-fake-news-of-2016#.nl712lkw2), e grande parte delas envolveu os candidatos à presidência.\n",
        "\n",
        "Uma das formas mais promissoras de combate à disseminação de notícias falsas é a automatização na detecção desse conteúdo, ou seja, a capacidade de classificar o conteúdo como verdadeiro ou não sem a interação de um humano. Diversos esforços na tentativa de construir algoritmos capazes de fazer essa classificação já existem, alguns por parte de vários pesquisadores e outros até por parte de empresas como Google e Facebook. O uso de algoritmos de aprendizado\n",
        "de máquina e mais especificamente o uso de aprendizado profundo se mostram promissores devido a capacidade de reconhecer padrões semânticos de que escapam ao leitor comum, que podem indicar se a notícia é verdadeira ou não. Além disso o avanço de técnicas de processamento de linguagem natural e de algoritmos para a criação de palavras vetorizadas contribui para uma melhor performance de redes neurais sobre tarefas relacionadas com texto.\n",
        "\n",
        "O objetivo desse projeto é explorar a biblioteca TextBlob e usar machine learning usando o classificador Naive Bayes para classificar as frases para uma base de dados de notícias em português. \n",
        "\n"
      ]
    },
    {
      "cell_type": "code",
      "metadata": {
        "id": "gfqd89JNxJ2E",
        "colab_type": "code",
        "colab": {}
      },
      "source": [
        "from textblob import TextBlob\n",
        "import pandas as pd"
      ],
      "execution_count": 18,
      "outputs": []
    },
    {
      "cell_type": "code",
      "metadata": {
        "id": "uOigLoXH1LMy",
        "colab_type": "code",
        "colab": {
          "base_uri": "https://localhost:8080/",
          "height": 204
        },
        "outputId": "ab1830b2-1d7f-4237-a305-b3b49650c62a"
      },
      "source": [
        "# url do dataset\n",
        "dataset_path = \"https://raw.githubusercontent.com/saulomaia/datascience/master/nlp_nltk/news.csv\"\n",
        "\n",
        "# importar o csv para um dataframe\n",
        "news = pd.read_csv(dataset_path, sep=\";\", header=None)\n",
        "\n",
        "# ver as 5 primeiras entradas\n",
        "news.head()"
      ],
      "execution_count": 21,
      "outputs": [
        {
          "output_type": "execute_result",
          "data": {
            "text/html": [
              "<div>\n",
              "<style scoped>\n",
              "    .dataframe tbody tr th:only-of-type {\n",
              "        vertical-align: middle;\n",
              "    }\n",
              "\n",
              "    .dataframe tbody tr th {\n",
              "        vertical-align: top;\n",
              "    }\n",
              "\n",
              "    .dataframe thead th {\n",
              "        text-align: right;\n",
              "    }\n",
              "</style>\n",
              "<table border=\"1\" class=\"dataframe\">\n",
              "  <thead>\n",
              "    <tr style=\"text-align: right;\">\n",
              "      <th></th>\n",
              "      <th>0</th>\n",
              "      <th>1</th>\n",
              "    </tr>\n",
              "  </thead>\n",
              "  <tbody>\n",
              "    <tr>\n",
              "      <th>0</th>\n",
              "      <td>O capitão américa aparece sobrevoando São Paul...</td>\n",
              "      <td>verdadeiro</td>\n",
              "    </tr>\n",
              "    <tr>\n",
              "      <th>1</th>\n",
              "      <td>A polarização da população gera guerra civil</td>\n",
              "      <td>fake_news</td>\n",
              "    </tr>\n",
              "    <tr>\n",
              "      <th>2</th>\n",
              "      <td>O Chaves se pronuncia e diz está indignado com...</td>\n",
              "      <td>verdadeiro</td>\n",
              "    </tr>\n",
              "    <tr>\n",
              "      <th>3</th>\n",
              "      <td>Morte do precidenciavel X por acidente de aviao</td>\n",
              "      <td>verdadeiro</td>\n",
              "    </tr>\n",
              "    <tr>\n",
              "      <th>4</th>\n",
              "      <td>Monumento de Brasilia é atacado por manifestan...</td>\n",
              "      <td>fake_news</td>\n",
              "    </tr>\n",
              "  </tbody>\n",
              "</table>\n",
              "</div>"
            ],
            "text/plain": [
              "                                                   0           1\n",
              "0  O capitão américa aparece sobrevoando São Paul...  verdadeiro\n",
              "1       A polarização da população gera guerra civil   fake_news\n",
              "2  O Chaves se pronuncia e diz está indignado com...  verdadeiro\n",
              "3    Morte do precidenciavel X por acidente de aviao  verdadeiro\n",
              "4  Monumento de Brasilia é atacado por manifestan...   fake_news"
            ]
          },
          "metadata": {
            "tags": []
          },
          "execution_count": 21
        }
      ]
    },
    {
      "cell_type": "markdown",
      "metadata": {
        "id": "12S4KYpO4Rez",
        "colab_type": "text"
      },
      "source": [
        "A base de dados, pequene e de exemplo, é composta por algumas frases de exemplo, e por sua respectiva classificação: verdadeira ou fake news, simulando uma base de dados verdadeira classificada entre verdadeira e fake news."
      ]
    },
    {
      "cell_type": "code",
      "metadata": {
        "id": "oYHZy7Wx35rh",
        "colab_type": "code",
        "colab": {
          "base_uri": "https://localhost:8080/",
          "height": 442
        },
        "outputId": "1c70dc8c-7405-472c-af9d-0f8878a76451"
      },
      "source": [
        "# mostrando o formato dos dados\n",
        "news.values"
      ],
      "execution_count": 23,
      "outputs": [
        {
          "output_type": "execute_result",
          "data": {
            "text/plain": [
              "array([['O capitão américa aparece sobrevoando São Paulo e diz que irá se candidatar',\n",
              "        'verdadeiro'],\n",
              "       ['A polarização da população gera guerra civil', 'fake_news'],\n",
              "       ['O Chaves se pronuncia e diz está indignado com tanta mentira.',\n",
              "        'verdadeiro'],\n",
              "       ['Morte do precidenciavel X por acidente de aviao', 'verdadeiro'],\n",
              "       ['Monumento de Brasilia é atacado por manifestantes e eleicoes seráo canceladas',\n",
              "        'fake_news'],\n",
              "       ['Novo presidente se diz confiante para governar o pais',\n",
              "        'verdadeiro'],\n",
              "       ['Jair Bolsonaro sobe no ranking de rejeicao no nordeste',\n",
              "        'verdadeiro'],\n",
              "       ['Haddad melhora nas pesquisas apos apoio de Lula', 'verdadeiro'],\n",
              "       ['Disputa no segundo turno está cada vez mais acirrada entre os extremos',\n",
              "        'verdadeiro'],\n",
              "       ['Amoedo declara apoio ao PT', 'fake_news'],\n",
              "       ['Manifestantes em Sao Paulo param avenida pedem intervençao militar!',\n",
              "        'fake_news'],\n",
              "       ['Padre Marcelo Rossi diz que irá se candidatar a presidencia',\n",
              "        'fake_news'],\n",
              "       ['Ex presidente Lula consegue habeas Corpus e pode ser candidato',\n",
              "        'fake_news'],\n",
              "       ['Presidente temmer declara apoio ao partido NOVO', 'fake_news'],\n",
              "       ['Mourao declara que é contra o 13 salario e adiantamento de férias de funcionários',\n",
              "        'verdadeiro']], dtype=object)"
            ]
          },
          "metadata": {
            "tags": []
          },
          "execution_count": 23
        }
      ]
    },
    {
      "cell_type": "markdown",
      "metadata": {
        "id": "l0FSKM5s4BS8",
        "colab_type": "text"
      },
      "source": [
        "**Importando o classificador Naive Bayes**"
      ]
    },
    {
      "cell_type": "code",
      "metadata": {
        "id": "qXOvESIH39hJ",
        "colab_type": "code",
        "colab": {}
      },
      "source": [
        "from textblob.classifiers import NaiveBayesClassifier"
      ],
      "execution_count": 24,
      "outputs": []
    },
    {
      "cell_type": "markdown",
      "metadata": {
        "id": "7YrgSwF645lB",
        "colab_type": "text"
      },
      "source": [
        "**Treinando o classificador**"
      ]
    },
    {
      "cell_type": "code",
      "metadata": {
        "id": "959fs1Ku445Q",
        "colab_type": "code",
        "colab": {}
      },
      "source": [
        "clf = NaiveBayesClassifier(news.values, format=\"csv\")"
      ],
      "execution_count": 25,
      "outputs": []
    },
    {
      "cell_type": "markdown",
      "metadata": {
        "id": "soiqyXyv51iE",
        "colab_type": "text"
      },
      "source": [
        "Agora é possível passar uma frase de exemplo e extrair features para visualizar como que seria o formato bag of words, ou seja, dado a frase de teste, se consegue verificar qual(is) palavra(s) da mesma, contém na base de dados utilizadas para treino do classificador."
      ]
    },
    {
      "cell_type": "code",
      "metadata": {
        "id": "-3Pkgsb65Aup",
        "colab_type": "code",
        "colab": {
          "base_uri": "https://localhost:8080/",
          "height": 1000
        },
        "outputId": "b6148096-ef46-4951-c054-8a5cc4361377"
      },
      "source": [
        "# modelagem do tipo bag of words\n",
        "clf.extract_features(\"Xuxa declara apoio aos baixinhos\")"
      ],
      "execution_count": 27,
      "outputs": [
        {
          "output_type": "execute_result",
          "data": {
            "text/plain": [
              "{'contains(13)': False,\n",
              " 'contains(A)': False,\n",
              " 'contains(Amoedo)': False,\n",
              " 'contains(Bolsonaro)': False,\n",
              " 'contains(Brasilia)': False,\n",
              " 'contains(Chaves)': False,\n",
              " 'contains(Corpus)': False,\n",
              " 'contains(Disputa)': False,\n",
              " 'contains(Ex)': False,\n",
              " 'contains(Haddad)': False,\n",
              " 'contains(Jair)': False,\n",
              " 'contains(Lula)': False,\n",
              " 'contains(Manifestantes)': False,\n",
              " 'contains(Marcelo)': False,\n",
              " 'contains(Monumento)': False,\n",
              " 'contains(Morte)': False,\n",
              " 'contains(Mourao)': False,\n",
              " 'contains(NOVO)': False,\n",
              " 'contains(Novo)': False,\n",
              " 'contains(O)': False,\n",
              " 'contains(PT)': False,\n",
              " 'contains(Padre)': False,\n",
              " 'contains(Paulo)': False,\n",
              " 'contains(Presidente)': False,\n",
              " 'contains(Rossi)': False,\n",
              " 'contains(Sao)': False,\n",
              " 'contains(São)': False,\n",
              " 'contains(X)': False,\n",
              " 'contains(a)': False,\n",
              " 'contains(acidente)': False,\n",
              " 'contains(acirrada)': False,\n",
              " 'contains(adiantamento)': False,\n",
              " 'contains(américa)': False,\n",
              " 'contains(ao)': False,\n",
              " 'contains(aparece)': False,\n",
              " 'contains(apoio)': True,\n",
              " 'contains(apos)': False,\n",
              " 'contains(atacado)': False,\n",
              " 'contains(avenida)': False,\n",
              " 'contains(aviao)': False,\n",
              " 'contains(cada)': False,\n",
              " 'contains(canceladas)': False,\n",
              " 'contains(candidatar)': False,\n",
              " 'contains(candidato)': False,\n",
              " 'contains(capitão)': False,\n",
              " 'contains(civil)': False,\n",
              " 'contains(com)': False,\n",
              " 'contains(confiante)': False,\n",
              " 'contains(consegue)': False,\n",
              " 'contains(contra)': False,\n",
              " 'contains(da)': False,\n",
              " 'contains(de)': False,\n",
              " 'contains(declara)': True,\n",
              " 'contains(diz)': False,\n",
              " 'contains(do)': False,\n",
              " 'contains(e)': False,\n",
              " 'contains(eleicoes)': False,\n",
              " 'contains(em)': False,\n",
              " 'contains(entre)': False,\n",
              " 'contains(está)': False,\n",
              " 'contains(extremos)': False,\n",
              " 'contains(funcionários)': False,\n",
              " 'contains(férias)': False,\n",
              " 'contains(gera)': False,\n",
              " 'contains(governar)': False,\n",
              " 'contains(guerra)': False,\n",
              " 'contains(habeas)': False,\n",
              " 'contains(indignado)': False,\n",
              " 'contains(intervençao)': False,\n",
              " 'contains(irá)': False,\n",
              " 'contains(mais)': False,\n",
              " 'contains(manifestantes)': False,\n",
              " 'contains(melhora)': False,\n",
              " 'contains(mentira)': False,\n",
              " 'contains(militar)': False,\n",
              " 'contains(nas)': False,\n",
              " 'contains(no)': False,\n",
              " 'contains(nordeste)': False,\n",
              " 'contains(o)': False,\n",
              " 'contains(os)': False,\n",
              " 'contains(pais)': False,\n",
              " 'contains(para)': False,\n",
              " 'contains(param)': False,\n",
              " 'contains(partido)': False,\n",
              " 'contains(pedem)': False,\n",
              " 'contains(pesquisas)': False,\n",
              " 'contains(pode)': False,\n",
              " 'contains(polarização)': False,\n",
              " 'contains(população)': False,\n",
              " 'contains(por)': False,\n",
              " 'contains(precidenciavel)': False,\n",
              " 'contains(presidencia)': False,\n",
              " 'contains(presidente)': False,\n",
              " 'contains(pronuncia)': False,\n",
              " 'contains(que)': False,\n",
              " 'contains(ranking)': False,\n",
              " 'contains(rejeicao)': False,\n",
              " 'contains(salario)': False,\n",
              " 'contains(se)': False,\n",
              " 'contains(segundo)': False,\n",
              " 'contains(ser)': False,\n",
              " 'contains(seráo)': False,\n",
              " 'contains(sobe)': False,\n",
              " 'contains(sobrevoando)': False,\n",
              " 'contains(tanta)': False,\n",
              " 'contains(temmer)': False,\n",
              " 'contains(turno)': False,\n",
              " 'contains(vez)': False,\n",
              " 'contains(é)': False}"
            ]
          },
          "metadata": {
            "tags": []
          },
          "execution_count": 27
        }
      ]
    },
    {
      "cell_type": "markdown",
      "metadata": {
        "id": "szt3ycj26l1R",
        "colab_type": "text"
      },
      "source": [
        "**Classificando efetivamente uma frase de teste**"
      ]
    },
    {
      "cell_type": "code",
      "metadata": {
        "id": "M_qDlSPu5H70",
        "colab_type": "code",
        "colab": {
          "base_uri": "https://localhost:8080/",
          "height": 35
        },
        "outputId": "08d8b850-da1d-4659-c01f-2dac0d41de56"
      },
      "source": [
        "clf.classify(\"Xuxa declara apoio aos baixinhos\")"
      ],
      "execution_count": 28,
      "outputs": [
        {
          "output_type": "execute_result",
          "data": {
            "application/vnd.google.colaboratory.intrinsic+json": {
              "type": "string"
            },
            "text/plain": [
              "'fake_news'"
            ]
          },
          "metadata": {
            "tags": []
          },
          "execution_count": 28
        }
      ]
    },
    {
      "cell_type": "code",
      "metadata": {
        "id": "l2GRZVf96ibY",
        "colab_type": "code",
        "colab": {
          "base_uri": "https://localhost:8080/",
          "height": 35
        },
        "outputId": "f4a45bb6-9601-45b5-d0ea-159fcb57ef0b"
      },
      "source": [
        "clf.classify(\"Presidente Temmer declara apoio a candidato do PSDB\")"
      ],
      "execution_count": 29,
      "outputs": [
        {
          "output_type": "execute_result",
          "data": {
            "application/vnd.google.colaboratory.intrinsic+json": {
              "type": "string"
            },
            "text/plain": [
              "'fake_news'"
            ]
          },
          "metadata": {
            "tags": []
          },
          "execution_count": 29
        }
      ]
    },
    {
      "cell_type": "code",
      "metadata": {
        "id": "PULm8RHQ6yLW",
        "colab_type": "code",
        "colab": {
          "base_uri": "https://localhost:8080/",
          "height": 35
        },
        "outputId": "ce614e9b-7755-4944-8881-ef7c3d3c381f"
      },
      "source": [
        "clf.classify(\"Disputa entre presidenciais sera mesmo no segundo turno\")"
      ],
      "execution_count": 30,
      "outputs": [
        {
          "output_type": "execute_result",
          "data": {
            "application/vnd.google.colaboratory.intrinsic+json": {
              "type": "string"
            },
            "text/plain": [
              "'verdadeiro'"
            ]
          },
          "metadata": {
            "tags": []
          },
          "execution_count": 30
        }
      ]
    },
    {
      "cell_type": "markdown",
      "metadata": {
        "id": "HCLtXk6L7Gbi",
        "colab_type": "text"
      },
      "source": [
        "**Distribuição das Probabilidades**\n",
        "\n",
        "Como estamos trabalhando com um classificador \"probabilístico\", nada mais útil do que visualizar as propabilidades de cada exemplo.\n",
        "\n",
        "Utlizando o método \"prob_classify\", vamos definir uma frase de exemplo e verificar a probabilidade dessa instância ser de uma determinada classse: verdadeira ou fake_news."
      ]
    },
    {
      "cell_type": "code",
      "metadata": {
        "id": "DnuuP1JR63VX",
        "colab_type": "code",
        "colab": {}
      },
      "source": [
        "dist_prob = clf.prob_classify(\"Padre Marcelo Rossi se pronuncia e diz que irá se candidatar\")"
      ],
      "execution_count": 31,
      "outputs": []
    },
    {
      "cell_type": "code",
      "metadata": {
        "id": "GGU5wPjN7hye",
        "colab_type": "code",
        "colab": {
          "base_uri": "https://localhost:8080/",
          "height": 34
        },
        "outputId": "41764df5-c963-421f-e6e4-76e888d61b8c"
      },
      "source": [
        "dist_prob.prob(\"fake_news\")"
      ],
      "execution_count": 32,
      "outputs": [
        {
          "output_type": "execute_result",
          "data": {
            "text/plain": [
              "0.8336538270304833"
            ]
          },
          "metadata": {
            "tags": []
          },
          "execution_count": 32
        }
      ]
    },
    {
      "cell_type": "code",
      "metadata": {
        "id": "7EiBnV_47m8v",
        "colab_type": "code",
        "colab": {
          "base_uri": "https://localhost:8080/",
          "height": 34
        },
        "outputId": "52537f4d-109b-49ab-9756-81774475fb1d"
      },
      "source": [
        "dist_prob.prob(\"verdadeiro\")"
      ],
      "execution_count": 33,
      "outputs": [
        {
          "output_type": "execute_result",
          "data": {
            "text/plain": [
              "0.16634617296951668"
            ]
          },
          "metadata": {
            "tags": []
          },
          "execution_count": 33
        }
      ]
    },
    {
      "cell_type": "code",
      "metadata": {
        "id": "7i9ypUU07o2e",
        "colab_type": "code",
        "colab": {
          "base_uri": "https://localhost:8080/",
          "height": 35
        },
        "outputId": "f6eeefc9-e31b-4396-ccee-fa169eefdf39"
      },
      "source": [
        "dist_prob.max()"
      ],
      "execution_count": 35,
      "outputs": [
        {
          "output_type": "execute_result",
          "data": {
            "application/vnd.google.colaboratory.intrinsic+json": {
              "type": "string"
            },
            "text/plain": [
              "'fake_news'"
            ]
          },
          "metadata": {
            "tags": []
          },
          "execution_count": 35
        }
      ]
    },
    {
      "cell_type": "markdown",
      "metadata": {
        "id": "MDf2SNFj8pUz",
        "colab_type": "text"
      },
      "source": [
        "**Avaliando o classificador usando um conjunto de validação**"
      ]
    },
    {
      "cell_type": "code",
      "metadata": {
        "id": "N0lMgCKV7rl7",
        "colab_type": "code",
        "colab": {}
      },
      "source": [
        "validacao = [\n",
        "     ('O governo temmer propoe reforma trabalhista', 'verdadeiro'),\n",
        "     ('Capitão america é visto em campanha eleitoral do partido NOVO', 'fake_news'),\n",
        "     (\"Lula é solto essa madrugada\", 'fake_news'),\n",
        "     (\"Jair Bolsonaro melhora nas pesquisas após atentado.\", 'verdadeiro')\n",
        "]"
      ],
      "execution_count": 36,
      "outputs": []
    },
    {
      "cell_type": "markdown",
      "metadata": {
        "id": "5OqVyiNM8-nB",
        "colab_type": "text"
      },
      "source": [
        "**Visualizando a acurácia do modelo**"
      ]
    },
    {
      "cell_type": "code",
      "metadata": {
        "id": "JOcCakxr8tWa",
        "colab_type": "code",
        "colab": {
          "base_uri": "https://localhost:8080/",
          "height": 34
        },
        "outputId": "915fe25a-93b3-468e-fa76-f84c0e29b90b"
      },
      "source": [
        "clf.accuracy(validacao)"
      ],
      "execution_count": 37,
      "outputs": [
        {
          "output_type": "execute_result",
          "data": {
            "text/plain": [
              "0.75"
            ]
          },
          "metadata": {
            "tags": []
          },
          "execution_count": 37
        }
      ]
    },
    {
      "cell_type": "markdown",
      "metadata": {
        "id": "RahsjLVE9J2Z",
        "colab_type": "text"
      },
      "source": [
        "**Visualizando qual classe o modelo atribuiu a cada sentença da lista de validação**"
      ]
    },
    {
      "cell_type": "code",
      "metadata": {
        "id": "KevSophh8v0K",
        "colab_type": "code",
        "colab": {
          "base_uri": "https://localhost:8080/",
          "height": 85
        },
        "outputId": "7ee44f65-6e2e-4af0-e4ce-b02fa0e98be7"
      },
      "source": [
        "for i in validacao:\n",
        "    print (i[0], clf.classify(i[0]))"
      ],
      "execution_count": 38,
      "outputs": [
        {
          "output_type": "stream",
          "text": [
            "O governo temmer propoe reforma trabalhista fake_news\n",
            "Capitão america é visto em campanha eleitoral do partido NOVO fake_news\n",
            "Lula é solto essa madrugada fake_news\n",
            "Jair Bolsonaro melhora nas pesquisas após atentado. verdadeiro\n"
          ],
          "name": "stdout"
        }
      ]
    },
    {
      "cell_type": "code",
      "metadata": {
        "id": "MQH5-4Eb9FCK",
        "colab_type": "code",
        "colab": {
          "base_uri": "https://localhost:8080/",
          "height": 391
        },
        "outputId": "74a2c773-2c53-4dd5-8c8a-a375ca79e2b5"
      },
      "source": [
        "# Features mais informativas para termos a noção como melhorar nossos dados\n",
        "print(clf.show_informative_features(20))"
      ],
      "execution_count": 41,
      "outputs": [
        {
          "output_type": "stream",
          "text": [
            "Most Informative Features\n",
            "            contains(de) = True           verdad : fake_n =      2.7 : 1.0\n",
            "            contains(se) = True           verdad : fake_n =      2.1 : 1.0\n",
            "           contains(diz) = True           verdad : fake_n =      2.1 : 1.0\n",
            "       contains(declara) = True           fake_n : verdad =      1.9 : 1.0\n",
            "         contains(apoio) = True           fake_n : verdad =      1.9 : 1.0\n",
            "            contains(de) = False          fake_n : verdad =      1.6 : 1.0\n",
            "           contains(que) = True           verdad : fake_n =      1.5 : 1.0\n",
            "            contains(ao) = False          verdad : fake_n =      1.4 : 1.0\n",
            "            contains(se) = False          fake_n : verdad =      1.3 : 1.0\n",
            "           contains(diz) = False          fake_n : verdad =      1.3 : 1.0\n",
            "            contains(no) = False          fake_n : verdad =      1.3 : 1.0\n",
            "          contains(está) = False          fake_n : verdad =      1.3 : 1.0\n",
            "             contains(o) = False          fake_n : verdad =      1.3 : 1.0\n",
            "             contains(O) = False          fake_n : verdad =      1.3 : 1.0\n",
            "             contains(e) = True           verdad : fake_n =      1.2 : 1.0\n",
            "         contains(apoio) = False          verdad : fake_n =      1.2 : 1.0\n",
            "       contains(declara) = False          verdad : fake_n =      1.2 : 1.0\n",
            "            contains(Ex) = False          verdad : fake_n =      1.2 : 1.0\n",
            "   contains(polarização) = False          verdad : fake_n =      1.2 : 1.0\n",
            "         contains(seráo) = False          verdad : fake_n =      1.2 : 1.0\n",
            "None\n"
          ],
          "name": "stdout"
        }
      ]
    },
    {
      "cell_type": "markdown",
      "metadata": {
        "id": "9VUQv61J9iaP",
        "colab_type": "text"
      },
      "source": [
        "Tabela das features mais importantes.\n",
        "\n",
        "**Por exemplo:**\n",
        "\n",
        "caso a sentença tenha a palavra \"apoio\", essa feature me dá o peso de 1.9 vezes de ser uma classificação fake news, somente por ter a palavra \"apoio\".\n",
        "\n",
        "Caso contrário, ou seja, a sentença não cotenha a palavra \"apoio\", a mesma tem somente 1.2 vezes de ser classificada como uma sentença verdadeira."
      ]
    },
    {
      "cell_type": "code",
      "metadata": {
        "id": "Aa2_Sbza9TgC",
        "colab_type": "code",
        "colab": {}
      },
      "source": [
        ""
      ],
      "execution_count": null,
      "outputs": []
    }
  ]
}